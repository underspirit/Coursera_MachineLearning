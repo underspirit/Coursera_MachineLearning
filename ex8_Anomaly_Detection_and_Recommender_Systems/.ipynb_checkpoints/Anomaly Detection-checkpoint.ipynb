{
 "cells": [
  {
   "cell_type": "markdown",
   "metadata": {},
   "source": [
    "## Anomaly Detection(Numpy)\n",
    "1. [读取数据](#读取数据)\n",
    "2. [数据可视化](#数据可视化)\n",
    "3. [参数估计](#参数估计)\n",
    "3. [计算概率](#计算概率)\n",
    "4. [画出指定分布的等高线](#画出指定分布的等高线)\n",
    "5. [通过验证集选取最优的epsilon](#通过验证集选取最优的epsilon)\n",
    "5. [找出离群点](#找出离群点)\n",
    "5. [多维特征的异常检测](#多维特征的异常检测)"
   ]
  },
  {
   "cell_type": "code",
   "execution_count": 1,
   "metadata": {
    "collapsed": false
   },
   "outputs": [
    {
     "name": "stderr",
     "output_type": "stream",
     "text": [
      "/home/lsr/anaconda2/lib/python2.7/site-packages/matplotlib/font_manager.py:273: UserWarning: Matplotlib is building the font cache using fc-list. This may take a moment.\n",
      "  warnings.warn('Matplotlib is building the font cache using fc-list. This may take a moment.')\n"
     ]
    }
   ],
   "source": [
    "%matplotlib inline\n",
    "import matplotlib.pyplot as plt\n",
    "import numpy as np\n",
    "import scipy.io as sio"
   ]
  },
  {
   "cell_type": "markdown",
   "metadata": {},
   "source": [
    "### 读取数据"
   ]
  },
  {
   "cell_type": "code",
   "execution_count": 2,
   "metadata": {
    "collapsed": false
   },
   "outputs": [],
   "source": [
    "data = sio.loadmat(\"data/ex8data1.mat\")\n",
    "X = data['X'] # 训练集样本，全部为正常样本\n",
    "Xval = data['Xval'] # 验证集样本，包含正常与异常样本\n",
    "yval = data['yval'].flatten() # 验证集标注"
   ]
  },
  {
   "cell_type": "markdown",
   "metadata": {},
   "source": [
    "### 数据可视化"
   ]
  },
  {
   "cell_type": "code",
   "execution_count": 3,
   "metadata": {
    "collapsed": false,
    "scrolled": false
   },
   "outputs": [
    {
     "data": {
      "image/png": "[encoded data removed]",
      "text/plain": [
       "<matplotlib.figure.Figure at 0x7fa812494e90>"
      ]
     },
     "metadata": {},
     "output_type": "display_data"
    }
   ],
   "source": [
    "fig = plt.figure()\n",
    "plt.scatter(X[: , 0], X[:, 1] ,c = 'blue', marker='x')\n",
    "plt.xlim(0, 30)\n",
    "plt.ylim(0, 30)\n",
    "plt.xlabel('Latency (ms)');\n",
    "plt.ylabel('Throughput (mb/s)');\n",
    "plt.show()"
   ]
  },
  {
   "cell_type": "markdown",
   "metadata": {},
   "source": [
    "### 参数估计"
   ]
  },
  {
   "cell_type": "code",
   "execution_count": 4,
   "metadata": {
    "collapsed": true
   },
   "outputs": [],
   "source": [
    "# 估计总体方差和均值\n",
    "def estimateGaussian(x, multivariate=False):\n",
    "    mu = x.mean(0)\n",
    "    if not multivariate:\n",
    "        sigma = ((x - mu) ** 2).sum(0) / len(x)  # 估计的是总体方差,除以的是m, matlab中是除以m - 1,估计样本方差\n",
    "    else:\n",
    "        sigma =  ((x - mu).T.dot(x - mu)) / len(x) # sigma = np.cov(x.T)\n",
    "    return mu, sigma"
   ]
  },
  {
   "cell_type": "code",
   "execution_count": 5,
   "metadata": {
    "collapsed": true
   },
   "outputs": [],
   "source": [
    "mu, sigma = estimateGaussian(X)"
   ]
  },
  {
   "cell_type": "markdown",
   "metadata": {},
   "source": [
    "### 计算概率"
   ]
  },
  {
   "cell_type": "markdown",
   "metadata": {},
   "source": [
    "一元正太分布,假设每个特征之间都是相互独立的，则给定样本的概率为：\n",
    "$$p(x)=\\prod_{j=1}^n p(x_j; u_j; \\sigma_j^2) = \\prod_{j=1}^n \\frac{1}{\\sqrt{2\\pi \\sigma_j}} \\exp \\left(- \\frac{(x_j - u_j)^2}{2\\sigma_j^2} \\right) \\quad (n为特征个数)$$\n",
    "多元正太分布,每个特征之间不一定相互独立，则给定样本的概率为：\n",
    "$$p(x)= \\frac{1}{(2\\pi)^{\\frac{n}{2}} \\left|\\sum\\right|^{\\frac{1}{2}}} exp \\left(-\\frac{1}{2}(x-u)^T{\\sum}^{-1}(x-u) \\right) \\quad (\\sum为协方差矩阵)$$"
   ]
  },
  {
   "cell_type": "code",
   "execution_count": 6,
   "metadata": {
    "collapsed": true
   },
   "outputs": [],
   "source": [
    "# 计算给定样本的概率\n",
    "def multivariateGaussian(x, mu, sigma):\n",
    "    k = len(mu)\n",
    "    if sigma.ndim == 1:\n",
    "        sigma = np.diag(sigma)\n",
    "    x = x - mu\n",
    "    inv_Sigma = np.linalg.pinv(sigma)\n",
    "    p = (2 * np.pi) ** (-k / 2) * np.linalg.det(sigma) ** (-0.5) * np.exp(-0.5 * np.sum(np.dot(x, inv_Sigma) * x, 1))\n",
    "    return p"
   ]
  },
  {
   "cell_type": "code",
   "execution_count": 7,
   "metadata": {
    "collapsed": false
   },
   "outputs": [],
   "source": [
    "p = multivariateGaussian(X, mu, sigma) # 计算测试集样本的概率"
   ]
  },
  {
   "cell_type": "markdown",
   "metadata": {},
   "source": [
    "### 画出指定分布的等高线"
   ]
  },
  {
   "cell_type": "code",
   "execution_count": 8,
   "metadata": {
    "collapsed": false
   },
   "outputs": [],
   "source": [
    "# 画出指定分布的等高线\n",
    "def visualizeFit(x, mu, sigma):\n",
    "    temp = np.arange(0, 35, 0.5)\n",
    "    x1, x2 = np.meshgrid(temp, temp)\n",
    "    newX = np.vstack([x1.flatten(), x2.flatten()]).T\n",
    "    Z = multivariateGaussian(newX, mu, sigma)\n",
    "    Z = np.reshape(Z, x1.shape)\n",
    "    \n",
    "    fig = plt.figure()\n",
    "    plt.scatter(x[: , 0], x[:, 1] , s = 10, c = 'blue', marker='x')\n",
    "    \n",
    "    ct = plt.contour(x1, x2, Z, np.logspace(-20, 0, 7), alpha=.5,  colors='red')\n",
    "    plt.clabel(ct, inline=1, fontsize=12, fmt='%.2e', colors='k')\n",
    "    \n",
    "    plt.xlim(0, 30)\n",
    "    plt.ylim(0, 30)\n",
    "    plt.xlabel('Latency (ms)');\n",
    "    plt.ylabel('Throughput (mb/s)');"
   ]
  },
  {
   "cell_type": "code",
   "execution_count": 9,
   "metadata": {
    "collapsed": false,
    "scrolled": false
   },
   "outputs": [
    {
     "data": {
      "image/png": "[encoded data removed]",
      "text/plain": [
       "<matplotlib.figure.Figure at 0x7fa8124946d0>"
      ]
     },
     "metadata": {},
     "output_type": "display_data"
    }
   ],
   "source": [
    "visualizeFit(X, mu, sigma)"
   ]
  },
  {
   "cell_type": "markdown",
   "metadata": {},
   "source": [
    "### 通过验证集选取最优的epsilon"
   ]
  },
  {
   "cell_type": "code",
   "execution_count": 10,
   "metadata": {
    "collapsed": false
   },
   "outputs": [],
   "source": [
    "pval = multivariateGaussian(Xval, mu, sigma) # 计算验证集样本的概率"
   ]
  },
  {
   "cell_type": "code",
   "execution_count": 11,
   "metadata": {
    "collapsed": false
   },
   "outputs": [],
   "source": [
    "# 通过验证集选取最优的epsilon\n",
    "def selectThreshold(yval, pval):\n",
    "    bestEpsilon = 0\n",
    "    bestF1 = 0\n",
    "    F1 = 0\n",
    "\n",
    "    candidate = np.linspace(np.min(pval), np.max(pval), 1000)\n",
    "    for epsilon in candidate:\n",
    "        cvPredictions = pval < epsilon\n",
    "        tp = np.sum((cvPredictions == 1) * (yval == 1)).astype('float64')\n",
    "        tn = np.sum((cvPredictions == 0) * (yval == 0)).astype('float64')\n",
    "        fp = np.sum((cvPredictions == 1) * (yval == 0)).astype('float64')\n",
    "        fn = np.sum((cvPredictions == 0) * (yval == 1)).astype('float64')\n",
    "        precision = tp / (tp + fp)\n",
    "        recall = tp / (tp + fn)\n",
    "        F1 = 2 * precision * recall / (precision + recall)\n",
    "        #print tp, tn, fp, fn\n",
    "        if F1 > bestF1:\n",
    "            bestF1 = F1\n",
    "            bestEpsilon = epsilon\n",
    "    return bestEpsilon, bestF1"
   ]
  },
  {
   "cell_type": "code",
   "execution_count": 12,
   "metadata": {
    "collapsed": false,
    "scrolled": false
   },
   "outputs": [
    {
     "name": "stdout",
     "output_type": "stream",
     "text": [
      "8.999853e-05， 0.875000\n"
     ]
    },
    {
     "name": "stderr",
     "output_type": "stream",
     "text": [
      "/home/lsr/anaconda2/lib/python2.7/site-packages/ipykernel/__main__.py:14: RuntimeWarning: invalid value encountered in double_scalars\n"
     ]
    }
   ],
   "source": [
    "bestEpsilon, bestF1 = selectThreshold(yval, pval)\n",
    "print '%e， %f' % (bestEpsilon, bestF1)"
   ]
  },
  {
   "cell_type": "markdown",
   "metadata": {},
   "source": [
    "### 找出离群点"
   ]
  },
  {
   "cell_type": "code",
   "execution_count": 13,
   "metadata": {
    "collapsed": false,
    "scrolled": true
   },
   "outputs": [
    {
     "data": {
      "image/png": "[encoded data removed]",
      "text/plain": [
       "<matplotlib.figure.Figure at 0x7fa812494650>"
      ]
     },
     "metadata": {},
     "output_type": "display_data"
    }
   ],
   "source": [
    "fig = plt.figure()\n",
    "\n",
    "outliers_idx = np.nonzero(p < bestEpsilon) \n",
    "\n",
    "plt.scatter(X[: , 0], X[:, 1] ,c = 'blue', marker='x')\n",
    "plt.scatter(X[outliers_idx, 0], X[outliers_idx, 1] , s = 50, c = 'None', marker='o' ,edgecolors='red')\n",
    "\n",
    "temp = np.arange(0, 35, 0.5)\n",
    "x1, x2 = np.meshgrid(temp, temp)\n",
    "newX = np.vstack([x1.flatten(), x2.flatten()]).T\n",
    "Z = multivariateGaussian(newX, mu, sigma)\n",
    "Z = np.reshape(Z, x1.shape)\n",
    "ct = plt.contour(x1, x2, Z, [bestEpsilon], alpha=.5,  colors='red')\n",
    "\n",
    "plt.xlim(0, 30)\n",
    "plt.ylim(0, 30)\n",
    "plt.xlabel('Latency (ms)');\n",
    "plt.ylabel('Throughput (mb/s)');\n",
    "plt.legend(['normal', 'anomalies'])\n",
    "plt.show()"
   ]
  },
  {
   "cell_type": "markdown",
   "metadata": {},
   "source": [
    "### 多维特征的异常检测"
   ]
  },
  {
   "cell_type": "code",
   "execution_count": 14,
   "metadata": {
    "collapsed": false
   },
   "outputs": [],
   "source": [
    "data = sio.loadmat(\"data/ex8data2.mat\")\n",
    "X = data['X'] # 训练集样本，全部为正常样本\n",
    "Xval = data['Xval'] # 验证集样本，包含正常与异常样本\n",
    "yval = data['yval'].flatten() # 验证集标注"
   ]
  },
  {
   "cell_type": "code",
   "execution_count": 15,
   "metadata": {
    "collapsed": false
   },
   "outputs": [
    {
     "name": "stdout",
     "output_type": "stream",
     "text": [
      "('Best epsilon found using cross-validation: %e\\n', 5.4998481911043181e-19)\n",
      "('Best F1 on Cross Validation Set:  %f\\n', 0.61538461538461542)\n",
      "('# Outliers found: %d\\n', 117)\n",
      "   (you should see a value epsilon of about 1.38e-18)\n",
      "\n",
      "\n"
     ]
    },
    {
     "name": "stderr",
     "output_type": "stream",
     "text": [
      "/home/lsr/anaconda2/lib/python2.7/site-packages/ipykernel/__main__.py:14: RuntimeWarning: invalid value encountered in double_scalars\n"
     ]
    }
   ],
   "source": [
    "mu, sigma = estimateGaussian(X, False)\n",
    "p = multivariateGaussian(X, mu, sigma)\n",
    "pval = multivariateGaussian(Xval, mu, sigma)\n",
    "bestEpsilon, bestF1 = selectThreshold(yval, pval)\n",
    "\n",
    "print('Best epsilon found using cross-validation: %e\\n', bestEpsilon)\n",
    "print('Best F1 on Cross Validation Set:  %f\\n', bestF1)\n",
    "print('# Outliers found: %d\\n', sum(p < bestEpsilon))\n",
    "print('   (you should see a value epsilon of about 1.38e-18)\\n\\n')"
   ]
  }
 ],
 "metadata": {
  "kernelspec": {
   "display_name": "Python 2",
   "language": "python",
   "name": "python2"
  },
  "language_info": {
   "codemirror_mode": {
    "name": "ipython",
    "version": 2
   },
   "file_extension": ".py",
   "mimetype": "text/x-python",
   "name": "python",
   "nbconvert_exporter": "python",
   "pygments_lexer": "ipython2",
   "version": "2.7.11"
  }
 },
 "nbformat": 4,
 "nbformat_minor": 0
}
